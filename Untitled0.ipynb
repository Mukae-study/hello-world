{
  "nbformat": 4,
  "nbformat_minor": 0,
  "metadata": {
    "colab": {
      "name": "Untitled0.ipynb",
      "provenance": [],
      "collapsed_sections": [],
      "authorship_tag": "ABX9TyPk4W7mcoAT9Exh9obsvzEh",
      "include_colab_link": true
    },
    "kernelspec": {
      "name": "python3",
      "display_name": "Python 3"
    },
    "language_info": {
      "name": "python"
    }
  },
  "cells": [
    {
      "cell_type": "markdown",
      "metadata": {
        "id": "view-in-github",
        "colab_type": "text"
      },
      "source": [
        "<a href=\"https://colab.research.google.com/github/Mukae-study/hello-world/blob/master/Untitled0.ipynb\" target=\"_parent\"><img src=\"https://colab.research.google.com/assets/colab-badge.svg\" alt=\"Open In Colab\"/></a>"
      ]
    },
    {
      "cell_type": "code",
      "execution_count": 51,
      "metadata": {
        "colab": {
          "base_uri": "https://localhost:8080/"
        },
        "id": "_iBJnWTE93TR",
        "outputId": "948fc4ba-477e-4ddc-cfbd-fa518d3a7c52"
      },
      "outputs": [
        {
          "output_type": "stream",
          "name": "stdout",
          "text": [
            "じゃんけんスタート\n",
            "自分の手を入力してください\n",
            "あいこ\n"
          ]
        }
      ],
      "source": [
        "import random\n",
        "\n",
        "print('じゃんけんスタート')\n",
        "print('自分の手を入力してください')\n",
        "\n",
        "#変数 my_hand に0（グー）を代入する\n",
        "my_hand = 0\n",
        "\n",
        "#変数 your_hand に0（グー）を代入する\n",
        "your_hand = random.randint(0,2)\n",
        "\n",
        "if my_hand == your_hand:\n",
        "  print('あいこ')\n",
        "elif my_hand == 0 and your_hand == 1:\n",
        "  print('あなたの勝ち')\n",
        "else:\n",
        "  print('hoge')"
      ]
    },
    {
      "cell_type": "code",
      "source": [
        "import random\n",
        "\n",
        "print('じゃんけんスタート')\n",
        "print('自分の手を入力してください')\n",
        "\n",
        "#グー:0, チョキ:1, パー:2\n",
        "\n",
        "my_hand = int(input('グー:0、チョキ:1、パー:2\\n'))\n",
        "your_hand = random.randint(0,2)\n",
        "print(your_hand)\n",
        "\n",
        "if my_hand == 0:  #自分がグー\n",
        "  if your_hand == 0:  #相手がグー\n",
        "    print('あいこ')\n",
        "  elif your_hand == 1:  #相手がチョキ\n",
        "    print('勝ち')\n",
        "  elif your_hand == 2:  #相手がパー\n",
        "    print('負け')\n",
        "elif my_hand == 1:  #自分がチョキ\n",
        "  if your_hand == 0:  #相手がグー\n",
        "    print('負け')\n",
        "  elif your_hand == 1:  #相手がチョキ\n",
        "    print('あいこ')\n",
        "  elif your_hand == 2:  #相手がパー\n",
        "    print('勝ち')\n",
        "elif my_hand == 2:  #自分がパー\n",
        "  if your_hand == 0:  #相手がグー\n",
        "    print('勝ち')\n",
        "  elif your_hand == 1:  #相手がチョキ\n",
        "    print('負け')\n",
        "  elif your_hand == 2:  #相手がパー\n",
        "    print('あいこ')\n"
      ],
      "metadata": {
        "colab": {
          "base_uri": "https://localhost:8080/"
        },
        "id": "CuNVXHf0BH66",
        "outputId": "e71bc226-cf88-461e-e7ba-211bca6287c6"
      },
      "execution_count": 154,
      "outputs": [
        {
          "output_type": "stream",
          "name": "stdout",
          "text": [
            "じゃんけんスタート\n",
            "自分の手を入力してください\n",
            "グー:0、チョキ:1、パー:2\n",
            "2\n",
            "1\n",
            "負け\n"
          ]
        }
      ]
    },
    {
      "cell_type": "code",
      "source": [
        "import random\n",
        "\n",
        "def jyanken(a,b):\n",
        "    if a == b:\n",
        "        print('あいこです')\n",
        "    elif a == 1 and b == 2:\n",
        "        print('相手はチョキを出しました。あなたの勝ちです')\n",
        "    elif a == 1 and b == 3:\n",
        "        print('相手はパーを出しました。あなたの負けです')\n",
        "    elif a == 2 and b == 1:\n",
        "        print('相手はグーを出しました。あなたの負けです。')\n",
        "    elif a == 2 and b == 3:\n",
        "        print('相手はパーを出しました。あなたの勝ちです。')\n",
        "    elif a == 3 and b == 1:\n",
        "        print('相手はグーを出しました。あなたの勝ちです。')\n",
        "    elif a == 3 and b == 2:\n",
        "        print('相手はチョキを出しました。あなたの負けです。')\n",
        "    else:\n",
        "        print('1~3の数字を入力してください。')\n",
        "\n",
        "a = int(input('(グー：１,チョキ：２,パー：３)あなたが出す手は？：'))\n",
        "b = random.randint(1, 3)\n",
        "#相手の出す手をランダムに発生\n",
        "jyanken(a,b)"
      ],
      "metadata": {
        "colab": {
          "base_uri": "https://localhost:8080/"
        },
        "id": "1LhdR0PJEbt2",
        "outputId": "9612251f-693f-45b1-d5ad-4e99289f6361"
      },
      "execution_count": 81,
      "outputs": [
        {
          "output_type": "stream",
          "name": "stdout",
          "text": [
            "(グー：１,チョキ：２,パー：３)あなたが出す手は？：2\n",
            "相手はグーを出しました。あなたの負けです。\n"
          ]
        }
      ]
    },
    {
      "cell_type": "code",
      "source": [
        "with open(\"C:/Users/4006044/Desktop/sample.txt\",\"r\") as f:\n",
        "  for line in f:\n",
        "    print(line)\n"
      ],
      "metadata": {
        "colab": {
          "base_uri": "https://localhost:8080/",
          "height": 212
        },
        "id": "xxziO-6sNP-g",
        "outputId": "6252edcc-e3a1-4974-87ab-589f407ee5b5"
      },
      "execution_count": 126,
      "outputs": [
        {
          "output_type": "error",
          "ename": "FileNotFoundError",
          "evalue": "ignored",
          "traceback": [
            "\u001b[0;31m---------------------------------------------------------------------------\u001b[0m",
            "\u001b[0;31mFileNotFoundError\u001b[0m                         Traceback (most recent call last)",
            "\u001b[0;32m<ipython-input-126-d6f023c2f561>\u001b[0m in \u001b[0;36m<module>\u001b[0;34m()\u001b[0m\n\u001b[0;32m----> 1\u001b[0;31m \u001b[0;32mwith\u001b[0m \u001b[0mopen\u001b[0m\u001b[0;34m(\u001b[0m\u001b[0;34m\"C:/Users/4006044/Desktop/sample.txt\"\u001b[0m\u001b[0;34m,\u001b[0m\u001b[0;34m\"r\"\u001b[0m\u001b[0;34m)\u001b[0m \u001b[0;32mas\u001b[0m \u001b[0mf\u001b[0m\u001b[0;34m:\u001b[0m\u001b[0;34m\u001b[0m\u001b[0;34m\u001b[0m\u001b[0m\n\u001b[0m\u001b[1;32m      2\u001b[0m   \u001b[0;32mfor\u001b[0m \u001b[0mline\u001b[0m \u001b[0;32min\u001b[0m \u001b[0mf\u001b[0m\u001b[0;34m:\u001b[0m\u001b[0;34m\u001b[0m\u001b[0;34m\u001b[0m\u001b[0m\n\u001b[1;32m      3\u001b[0m     \u001b[0mprint\u001b[0m\u001b[0;34m(\u001b[0m\u001b[0mline\u001b[0m\u001b[0;34m)\u001b[0m\u001b[0;34m\u001b[0m\u001b[0;34m\u001b[0m\u001b[0m\n",
            "\u001b[0;31mFileNotFoundError\u001b[0m: [Errno 2] No such file or directory: 'C:/Users/4006044/Desktop/sample.txt'"
          ]
        }
      ]
    }
  ]
}